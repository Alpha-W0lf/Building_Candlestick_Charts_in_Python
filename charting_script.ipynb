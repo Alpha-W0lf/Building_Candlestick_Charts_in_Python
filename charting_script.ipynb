{
 "cells": [
  {
   "cell_type": "code",
   "execution_count": 50,
   "metadata": {},
   "outputs": [],
   "source": [
    "import datetime as dt\n",
    "import matplotlib.dates as mdates\n",
    "import matplotlib.pyplot as plt\n",
    "import pandas_datareader as web\n",
    "from mpl_finance import candlestick_ohlc"
   ]
  },
  {
   "cell_type": "code",
   "execution_count": 51,
   "metadata": {},
   "outputs": [],
   "source": [
    "company = 'AAPL'\n",
    "\n",
    "start = dt.datetime(2015, 1, 1)\n",
    "end = dt.datetime.now()"
   ]
  },
  {
   "cell_type": "code",
   "execution_count": 52,
   "metadata": {},
   "outputs": [
    {
     "name": "stdout",
     "output_type": "stream",
     "text": [
      "              Open      High      Low   Close      Volume\n",
      "Date                                                     \n",
      "2023-08-18  172.30  175.1000  171.960  174.49  61110338.0\n",
      "2023-08-17  177.14  177.5054  173.480  174.00  66062882.0\n",
      "2023-08-16  177.13  178.5400  176.500  176.57  46964857.0\n",
      "2023-08-15  178.88  179.4800  177.050  177.45  43622593.0\n",
      "2023-08-14  177.97  179.6900  177.305  179.46  43675627.0\n"
     ]
    }
   ],
   "source": [
    "df = web.DataReader(company, 'stooq', start, end)\n",
    "\n",
    "print(df.head())"
   ]
  },
  {
   "cell_type": "code",
   "execution_count": 53,
   "metadata": {},
   "outputs": [],
   "source": [
    "df = df[['Open', 'High', 'Low', 'Close']]"
   ]
  },
  {
   "cell_type": "code",
   "execution_count": 54,
   "metadata": {},
   "outputs": [],
   "source": [
    "df.reset_index(inplace=True)\n",
    "df['Date'] = df['Date'].map(mdates.date2num)"
   ]
  },
  {
   "cell_type": "code",
   "execution_count": 80,
   "metadata": {},
   "outputs": [],
   "source": [
    "ax = plt.subplot()\n",
    "candlestick_ohlc(ax, df.values, width=5, colorup='g', colordown='r')\n",
    "ax.xaxis_date()\n",
    "ax.grid(True)\n",
    "\n",
    "ax.set_axisbelow(True)\n",
    "ax.set_title('AAPL Share Price', color='white')\n",
    "ax.set_facecolor('black')\n",
    "ax.figure.set_facecolor('#121212')\n",
    "ax.tick_params(axis='x', colors='white')\n",
    "ax.tick_params(axis='y', colors='white')\n",
    "ax.xaxis_date()\n",
    "plt.show()"
   ]
  }
 ],
 "metadata": {
  "kernelspec": {
   "display_name": "Python 3",
   "language": "python",
   "name": "python3"
  },
  "language_info": {
   "codemirror_mode": {
    "name": "ipython",
    "version": 3
   },
   "file_extension": ".py",
   "mimetype": "text/x-python",
   "name": "python",
   "nbconvert_exporter": "python",
   "pygments_lexer": "ipython3",
   "version": "3.9.0"
  },
  "orig_nbformat": 4
 },
 "nbformat": 4,
 "nbformat_minor": 2
}
