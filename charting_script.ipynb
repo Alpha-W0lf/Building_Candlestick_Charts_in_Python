{
 "cells": [
  {
   "cell_type": "code",
   "execution_count": 40,
   "metadata": {},
   "outputs": [],
   "source": [
    "import datetime as dt\n",
    "import matplotlib.dates as mdates\n",
    "import matplotlib.pyplot as plt\n",
    "import pandas_datareader as web\n",
    "import mplfinance as mpf"
   ]
  },
  {
   "cell_type": "code",
   "execution_count": 41,
   "metadata": {},
   "outputs": [],
   "source": [
    "company = 'AAPL'\n",
    "\n",
    "start = dt.datetime(2015, 1, 1)\n",
    "end = dt.datetime.now()"
   ]
  },
  {
   "cell_type": "code",
   "execution_count": 46,
   "metadata": {},
   "outputs": [
    {
     "name": "stdout",
     "output_type": "stream",
     "text": [
      "              Open      High      Low   Close      Volume\n",
      "Date                                                     \n",
      "2023-08-18  172.30  175.1000  171.960  174.49  61110338.0\n",
      "2023-08-17  177.14  177.5054  173.480  174.00  66062882.0\n",
      "2023-08-16  177.13  178.5400  176.500  176.57  46964857.0\n",
      "2023-08-15  178.88  179.4800  177.050  177.45  43622593.0\n",
      "2023-08-14  177.97  179.6900  177.305  179.46  43675627.0\n"
     ]
    }
   ],
   "source": [
    "df = web.DataReader(company, 'stooq', start, end)\n",
    "\n",
    "print(df.head())"
   ]
  },
  {
   "cell_type": "code",
   "execution_count": 47,
   "metadata": {},
   "outputs": [],
   "source": [
    "df = df[['Open', 'High', 'Low', 'Close']]"
   ]
  },
  {
   "cell_type": "code",
   "execution_count": 48,
   "metadata": {},
   "outputs": [
    {
     "name": "stdout",
     "output_type": "stream",
     "text": [
      "         Date      Open      High       Low     Close\n",
      "0     19587.0  172.3000  175.1000  171.9600  174.4900\n",
      "1     19586.0  177.1400  177.5054  173.4800  174.0000\n",
      "2     19585.0  177.1300  178.5400  176.5000  176.5700\n",
      "3     19584.0  178.8800  179.4800  177.0500  177.4500\n",
      "4     19583.0  177.9700  179.6900  177.3050  179.4600\n",
      "...       ...       ...       ...       ...       ...\n",
      "2167  16443.0   24.5810   25.2420   24.4564   25.1822\n",
      "2168  16442.0   24.1274   24.3437   24.0078   24.2521\n",
      "2169  16441.0   24.0028   24.1753   23.5441   23.9130\n",
      "2170  16440.0   24.3657   24.4435   23.7226   23.9110\n",
      "2171  16437.0   25.0645   25.0765   24.1593   24.6030\n",
      "\n",
      "[2172 rows x 5 columns]\n"
     ]
    }
   ],
   "source": [
    "df.reset_index(inplace=True)\n",
    "df['Date'] = df['Date'].map(mdates.date2num)"
   ]
  }
 ],
 "metadata": {
  "kernelspec": {
   "display_name": "Python 3",
   "language": "python",
   "name": "python3"
  },
  "language_info": {
   "codemirror_mode": {
    "name": "ipython",
    "version": 3
   },
   "file_extension": ".py",
   "mimetype": "text/x-python",
   "name": "python",
   "nbconvert_exporter": "python",
   "pygments_lexer": "ipython3",
   "version": "3.9.0"
  },
  "orig_nbformat": 4
 },
 "nbformat": 4,
 "nbformat_minor": 2
}
